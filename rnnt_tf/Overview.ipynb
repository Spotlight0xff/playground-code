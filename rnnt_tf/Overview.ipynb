{
 "cells": [
  {
   "cell_type": "markdown",
   "metadata": {},
   "source": [
    "Batched RNN-T computation\n",
    "========================\n",
    "\n",
    "#### Overview:\n",
    "###### Steps\n",
    "1. Precompute first row+column\n",
    "2. while_loop over diagonals\n",
    "3. gather bottom-right values for loss calculation\n",
    "\n",
    "###### Tensors\n",
    "* `log_probs: (B, T, U, V)`\n",
    "* `labels: (B, V)`\n",
    "* `input_lens: (B,) -> [T]`\n",
    "* `label_lens: (B,) -> [U]`"
   ]
  },
  {
   "cell_type": "markdown",
   "metadata": {},
   "source": [
    "Details:\n",
    "--------\n",
    "#### 1. Precompute first row+col\n",
    "* `precomputed_col: (B,T)`\n",
    "* `precomputed_row: (B,T)`\n",
    " \n",
    "\n",
    "\n",
    "#### 2. while_loop over diagonals\n",
    "Start at `n=1`.\n",
    "\n",
    "##### 2.1 indices over diagonals\n",
    "First we generate indices over the diagonal as the lattice.\n",
    "\n",
    "We operate in three phases:\n",
    "a. everything is ok, we take the `n` elements\n",
    "b. we either take the first min(T,U) elements or the last ones\n",
    "               depending on which dimension is smaller.\n",
    "               case T > U: last elements, `U` elements\n",
    "               case T < U: first elements, `T` elements\n",
    "c. we take a slice in the middle\n",
    "               case T > U: `[,)`\n",
    "               case T < U: `[,-1)`\n",
    "\n",
    "\n",
    "#### 3. gather bottom-right values for loss calculation"
   ]
  }
 ],
 "metadata": {
  "kernelspec": {
   "display_name": "Python 3.6 (returnn)",
   "language": "python",
   "name": "tf-py36"
  },
  "language_info": {
   "codemirror_mode": {
    "name": "ipython",
    "version": 3
   },
   "file_extension": ".py",
   "mimetype": "text/x-python",
   "name": "python",
   "nbconvert_exporter": "python",
   "pygments_lexer": "ipython3",
   "version": "3.6.9"
  }
 },
 "nbformat": 4,
 "nbformat_minor": 2
}
